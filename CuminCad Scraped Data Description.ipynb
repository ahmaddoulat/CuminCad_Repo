{
 "cells": [
  {
   "cell_type": "markdown",
   "metadata": {},
   "source": [
    "# CuminCad Scraped Data Description"
   ]
  },
  {
   "cell_type": "code",
   "execution_count": 5,
   "metadata": {},
   "outputs": [],
   "source": [
    "import pandas as pd"
   ]
  },
  {
   "cell_type": "code",
   "execution_count": 6,
   "metadata": {},
   "outputs": [],
   "source": [
    "metadata = pd.read_csv(\"D:/RA Maher/New_scraper/total_CuminCad_metadata.csv\")"
   ]
  },
  {
   "cell_type": "code",
   "execution_count": 7,
   "metadata": {},
   "outputs": [
    {
     "data": {
      "text/html": [
       "<div>\n",
       "<style scoped>\n",
       "    .dataframe tbody tr th:only-of-type {\n",
       "        vertical-align: middle;\n",
       "    }\n",
       "\n",
       "    .dataframe tbody tr th {\n",
       "        vertical-align: top;\n",
       "    }\n",
       "\n",
       "    .dataframe thead th {\n",
       "        text-align: right;\n",
       "    }\n",
       "</style>\n",
       "<table border=\"1\" class=\"dataframe\">\n",
       "  <thead>\n",
       "    <tr style=\"text-align: right;\">\n",
       "      <th></th>\n",
       "      <th>authors</th>\n",
       "      <th>email</th>\n",
       "      <th>full text</th>\n",
       "      <th>id</th>\n",
       "      <th>keywords</th>\n",
       "      <th>last changed</th>\n",
       "      <th>references</th>\n",
       "      <th>series</th>\n",
       "      <th>source</th>\n",
       "      <th>summary</th>\n",
       "      <th>title</th>\n",
       "      <th>type</th>\n",
       "      <th>unique_id</th>\n",
       "      <th>year</th>\n",
       "    </tr>\n",
       "  </thead>\n",
       "  <tbody>\n",
       "    <tr>\n",
       "      <th>0</th>\n",
       "      <td>Abbasy-Asbagh, Ghazal</td>\n",
       "      <td>abbasy@virginia.edu</td>\n",
       "      <td>Installed</td>\n",
       "      <td>acadia13_391</td>\n",
       "      <td>structural optimization, folded surface, cultu...</td>\n",
       "      <td>12/16/2013 8:04</td>\n",
       "      <td>[]</td>\n",
       "      <td>ACADIA</td>\n",
       "      <td>ACADIA 13: Adaptive Architecture [Proceedings ...</td>\n",
       "      <td>This project uses folded surface as a mechanis...</td>\n",
       "      <td>[re]folding Muqarnas: A case study</td>\n",
       "      <td>Design Poster</td>\n",
       "      <td>acadia13_391</td>\n",
       "      <td>2013</td>\n",
       "    </tr>\n",
       "    <tr>\n",
       "      <th>1</th>\n",
       "      <td>Abdel-Rahman, Amira; Michalatos, Panagiotis</td>\n",
       "      <td>amira-rahman@aucegypt.edu</td>\n",
       "      <td>Installed</td>\n",
       "      <td>acadia17_18</td>\n",
       "      <td>material and construction; construction/roboti...</td>\n",
       "      <td>10/17/2017 9:12</td>\n",
       "      <td>[{'in paper': 'Abdel-Rahman, Amira; Michalatos...</td>\n",
       "      <td>ACADIA</td>\n",
       "      <td>ACADIA 2017: DISCIPLINES &amp; DISRUPTION [Proceed...</td>\n",
       "      <td>In an attempt to design shape-morphing multifu...</td>\n",
       "      <td>Magnetic Morphing</td>\n",
       "      <td>NaN</td>\n",
       "      <td>acadia17_18</td>\n",
       "      <td>2017</td>\n",
       "    </tr>\n",
       "    <tr>\n",
       "      <th>2</th>\n",
       "      <td>Abdelmawla, S., Elnimeiri, M. and Krawczyk, R.</td>\n",
       "      <td>krawczyk@iit.edu</td>\n",
       "      <td>Installed</td>\n",
       "      <td>NaN</td>\n",
       "      <td>NaN</td>\n",
       "      <td>11/21/2003 14:15</td>\n",
       "      <td>[{'in paper': 'Abdelmawla, S., Elnimeiri, M. a...</td>\n",
       "      <td>ACADIA</td>\n",
       "      <td>Eternity, Infinity and Virtuality in Architect...</td>\n",
       "      <td>Architects are visual learners. The Internet h...</td>\n",
       "      <td>Structural Gizmos</td>\n",
       "      <td>NaN</td>\n",
       "      <td>4cd1</td>\n",
       "      <td>2000</td>\n",
       "    </tr>\n",
       "    <tr>\n",
       "      <th>3</th>\n",
       "      <td>Achten, Henri</td>\n",
       "      <td>achten@fa.cvut.cz</td>\n",
       "      <td>Installed</td>\n",
       "      <td>acadia14_479</td>\n",
       "      <td>Interactive Architecture, Interaction Style, B...</td>\n",
       "      <td>9/29/2014 5:51</td>\n",
       "      <td>[{'in paper': 'Achten, Henri (2014) One and Ma...</td>\n",
       "      <td>ACADIA</td>\n",
       "      <td>ACADIA 14: Design Agency [Proceedings of the 3...</td>\n",
       "      <td>Agent theory from Distributed Artificial Intel...</td>\n",
       "      <td>One and Many: An Agent Perspective on Interact...</td>\n",
       "      <td>Normal Paper</td>\n",
       "      <td>acadia14_479</td>\n",
       "      <td>2014</td>\n",
       "    </tr>\n",
       "    <tr>\n",
       "      <th>4</th>\n",
       "      <td>Aguiar, Rita; Cardoso, Carmo; Leit?o,António</td>\n",
       "      <td>rita.aguiar@ist.utl.pt</td>\n",
       "      <td>Installed</td>\n",
       "      <td>acadia17_28</td>\n",
       "      <td>design methods; information processing; simula...</td>\n",
       "      <td>10/17/2017 9:12</td>\n",
       "      <td>[{'in paper': 'Aguiar, Rita; Cardoso, Carmo; L...</td>\n",
       "      <td>ACADIA</td>\n",
       "      <td>ACADIA 2017: DISCIPLINES &amp; DISRUPTION [Proceed...</td>\n",
       "      <td>In the past, there has been a rapid evolution ...</td>\n",
       "      <td>Algorithmic Design and Analysis Fusing Discipl...</td>\n",
       "      <td>NaN</td>\n",
       "      <td>acadia17_28</td>\n",
       "      <td>2017</td>\n",
       "    </tr>\n",
       "  </tbody>\n",
       "</table>\n",
       "</div>"
      ],
      "text/plain": [
       "                                          authors                      email  \\\n",
       "0                           Abbasy-Asbagh, Ghazal        abbasy@virginia.edu   \n",
       "1   Abdel-Rahman, Amira; Michalatos, Panagiotis    amira-rahman@aucegypt.edu   \n",
       "2  Abdelmawla, S., Elnimeiri, M. and Krawczyk, R.           krawczyk@iit.edu   \n",
       "3                                   Achten, Henri          achten@fa.cvut.cz   \n",
       "4    Aguiar, Rita; Cardoso, Carmo; Leit?o,António     rita.aguiar@ist.utl.pt   \n",
       "\n",
       "   full text            id                                           keywords  \\\n",
       "0  Installed  acadia13_391  structural optimization, folded surface, cultu...   \n",
       "1  Installed   acadia17_18  material and construction; construction/roboti...   \n",
       "2  Installed           NaN                                                NaN   \n",
       "3  Installed  acadia14_479  Interactive Architecture, Interaction Style, B...   \n",
       "4  Installed   acadia17_28  design methods; information processing; simula...   \n",
       "\n",
       "       last changed                                         references  \\\n",
       "0   12/16/2013 8:04                                                 []   \n",
       "1   10/17/2017 9:12  [{'in paper': 'Abdel-Rahman, Amira; Michalatos...   \n",
       "2  11/21/2003 14:15  [{'in paper': 'Abdelmawla, S., Elnimeiri, M. a...   \n",
       "3    9/29/2014 5:51  [{'in paper': 'Achten, Henri (2014) One and Ma...   \n",
       "4   10/17/2017 9:12  [{'in paper': 'Aguiar, Rita; Cardoso, Carmo; L...   \n",
       "\n",
       "   series                                             source  \\\n",
       "0  ACADIA  ACADIA 13: Adaptive Architecture [Proceedings ...   \n",
       "1  ACADIA  ACADIA 2017: DISCIPLINES & DISRUPTION [Proceed...   \n",
       "2  ACADIA  Eternity, Infinity and Virtuality in Architect...   \n",
       "3  ACADIA  ACADIA 14: Design Agency [Proceedings of the 3...   \n",
       "4  ACADIA  ACADIA 2017: DISCIPLINES & DISRUPTION [Proceed...   \n",
       "\n",
       "                                             summary  \\\n",
       "0  This project uses folded surface as a mechanis...   \n",
       "1  In an attempt to design shape-morphing multifu...   \n",
       "2  Architects are visual learners. The Internet h...   \n",
       "3  Agent theory from Distributed Artificial Intel...   \n",
       "4  In the past, there has been a rapid evolution ...   \n",
       "\n",
       "                                               title           type  \\\n",
       "0                 [re]folding Muqarnas: A case study  Design Poster   \n",
       "1                                  Magnetic Morphing            NaN   \n",
       "2                                  Structural Gizmos            NaN   \n",
       "3  One and Many: An Agent Perspective on Interact...   Normal Paper   \n",
       "4  Algorithmic Design and Analysis Fusing Discipl...            NaN   \n",
       "\n",
       "      unique_id  year  \n",
       "0  acadia13_391  2013  \n",
       "1   acadia17_18  2017  \n",
       "2          4cd1  2000  \n",
       "3  acadia14_479  2014  \n",
       "4   acadia17_28  2017  "
      ]
     },
     "execution_count": 7,
     "metadata": {},
     "output_type": "execute_result"
    }
   ],
   "source": [
    "metadata.head()"
   ]
  },
  {
   "cell_type": "markdown",
   "metadata": {},
   "source": [
    "## Total number of papers "
   ]
  },
  {
   "cell_type": "code",
   "execution_count": 16,
   "metadata": {},
   "outputs": [
    {
     "data": {
      "text/plain": [
       "15668"
      ]
     },
     "execution_count": 16,
     "metadata": {},
     "output_type": "execute_result"
    }
   ],
   "source": [
    "metadata.shape[0]"
   ]
  },
  {
   "cell_type": "markdown",
   "metadata": {},
   "source": [
    "## Metadata fields "
   ]
  },
  {
   "cell_type": "code",
   "execution_count": 8,
   "metadata": {},
   "outputs": [
    {
     "data": {
      "text/plain": [
       "Index(['authors', 'email', 'full text', 'id', 'keywords', 'last changed',\n",
       "       'references', 'series', 'source', 'summary', 'title', 'type',\n",
       "       'unique_id', 'year'],\n",
       "      dtype='object')"
      ]
     },
     "execution_count": 8,
     "metadata": {},
     "output_type": "execute_result"
    }
   ],
   "source": [
    "metadata.columns"
   ]
  },
  {
   "cell_type": "markdown",
   "metadata": {},
   "source": [
    "## Number of papers per series"
   ]
  },
  {
   "cell_type": "code",
   "execution_count": 18,
   "metadata": {},
   "outputs": [
    {
     "name": "stdout",
     "output_type": "stream",
     "text": [
      "Series\t\tCount(# of papers)\n",
      "---------------------------------\n"
     ]
    },
    {
     "data": {
      "text/plain": [
       "SIGRADI          3556\n",
       "eCAADe           2785\n",
       "CAADRIA          1700\n",
       "ACADIA           1421\n",
       "other            1364\n",
       "CAAD Futures      828\n",
       "CADline           808\n",
       "journal paper     701\n",
       "DDSS              481\n",
       "journal           427\n",
       "EAEA              380\n",
       "ASCAAD            302\n",
       "SIGraDi           284\n",
       "thesis:PhD        214\n",
       "book              132\n",
       "AVOCAAD           107\n",
       "thesis:MSc         86\n",
       "plCAD              76\n",
       "report             16\n",
       "Name: series, dtype: int64"
      ]
     },
     "execution_count": 18,
     "metadata": {},
     "output_type": "execute_result"
    }
   ],
   "source": [
    "print(\"Series\\t\\tCount(# of papers)\")\n",
    "print(\"---------------------------------\")\n",
    "metadata.series.value_counts()"
   ]
  },
  {
   "cell_type": "markdown",
   "metadata": {},
   "source": [
    "## Total number of downloaded full text (PDF)"
   ]
  },
  {
   "cell_type": "code",
   "execution_count": 13,
   "metadata": {},
   "outputs": [
    {
     "data": {
      "text/plain": [
       "Installed    12842\n",
       "Name: full text, dtype: int64"
      ]
     },
     "execution_count": 13,
     "metadata": {},
     "output_type": "execute_result"
    }
   ],
   "source": [
    "metadata['full text'].value_counts()"
   ]
  },
  {
   "cell_type": "code",
   "execution_count": null,
   "metadata": {},
   "outputs": [],
   "source": []
  }
 ],
 "metadata": {
  "kernelspec": {
   "display_name": "Python 3",
   "language": "python",
   "name": "python3"
  },
  "language_info": {
   "codemirror_mode": {
    "name": "ipython",
    "version": 3
   },
   "file_extension": ".py",
   "mimetype": "text/x-python",
   "name": "python",
   "nbconvert_exporter": "python",
   "pygments_lexer": "ipython3",
   "version": "3.6.4"
  }
 },
 "nbformat": 4,
 "nbformat_minor": 2
}
